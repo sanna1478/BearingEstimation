{
 "cells": [
  {
   "cell_type": "code",
   "execution_count": 50,
   "metadata": {},
   "outputs": [],
   "source": [
    "import matplotlib.pyplot as plt\n",
    "import numpy as np\n",
    "import math\n",
    "\n",
    "from mpl_toolkits.mplot3d import Axes3D"
   ]
  },
  {
   "cell_type": "code",
   "execution_count": 144,
   "metadata": {},
   "outputs": [],
   "source": [
    "def generateHydroPhoneSignal(freq, toa):\n",
    "    #freq is assumed to be sent in kHz\n",
    "    pulseLength = 4e-3\n",
    "    fs = 2.0*freq*1000.0\n",
    "    step = (pulseLength - 0)/fs\n",
    "    time = np.arange(toa,toa+pulseLength,step)\n",
    "    y = [np.sin(2*np.pi*freq*1000*t) + 2 for t in time]\n",
    "    \n",
    "    plt.plot(time,y)\n",
    "    plt.show()\n",
    "    \n",
    "    return y"
   ]
  },
  {
   "cell_type": "code",
   "execution_count": 145,
   "metadata": {},
   "outputs": [
    {
     "data": {
      "image/png": "[encoded data removed]",
      "text/plain": [
       "<Figure size 432x288 with 1 Axes>"
      ]
     },
     "metadata": {
      "needs_background": "light"
     },
     "output_type": "display_data"
    }
   ],
   "source": [
    "signal = generateHydroPhoneSignal(40,40)"
   ]
  },
  {
   "cell_type": "code",
   "execution_count": 34,
   "metadata": {},
   "outputs": [],
   "source": [
    "def timeOfArrival(distTravelled):\n",
    "    sos = 1500.0 # speed in m/s\n",
    "    t = distTravelled/sos\n",
    "    return t\n",
    "    "
   ]
  },
  {
   "cell_type": "code",
   "execution_count": 46,
   "metadata": {},
   "outputs": [
    {
     "data": {
      "image/png": "[encoded data removed]",
      "text/plain": [
       "<Figure size 432x288 with 1 Axes>"
      ]
     },
     "metadata": {
      "needs_background": "light"
     },
     "output_type": "display_data"
    }
   ],
   "source": [
    "# Assume that the hydrophone is at some origin\n",
    "plt.plot(0,0,marker=\"o\", markersize=20)\n",
    "plt.show()"
   ]
  },
  {
   "cell_type": "code",
   "execution_count": 152,
   "metadata": {},
   "outputs": [],
   "source": [
    "def hydroPhoneArrayPosition(rotate = 0.0, start_pos = np.array([[10],[10]]), axis = 'x'):\n",
    "    # Spacing between the hydrophones\n",
    "    d = 0.018\n",
    "    \n",
    "    # The starting position is of the middle hydrophone, i.e. hydrophone2\n",
    "    hydrophone2 = start_pos\n",
    "    x = start_pos[0][0]\n",
    "    y = start_pos[1][0]\n",
    "    \n",
    "    if axis == 'x':\n",
    "        hydrophone1 = np.array([[x-d],[y]])\n",
    "        hydrophone3 = np.array([[x+d],[y]])\n",
    "    elif axis == 'y':\n",
    "        hydrophone1 = np.array([[x],[y-d]])\n",
    "        hydrophone3 = np.array([[x],[y+d]])\n",
    "    else:\n",
    "        print(\"Error: Entered invalid value for the axis\")\n",
    "    \n",
    "    # Assumed that the bearing is given in degrees convert to radians\n",
    "    # Bearing is assumed to be CCW relative to axis\n",
    "    rotate_rad = math.radians(rotate)\n",
    "    R_z = np.array([[math.cos(rotate_rad), -1*math.sin(rotate_rad)],[math.sin(rotate_rad), math.cos(rotate_rad)]])\n",
    "    \n",
    "    hydrophone1_rotated = np.matmul(R_z,hydrophone1 - hydrophone2) + hydrophone2\n",
    "    hydrophone2_rotated = hydrophone2\n",
    "    hydrophone3_rotated = np.matmul(R_z,hydrophone3 - hydrophone2) + hydrophone2\n",
    "    \n",
    "    # Create array of X and Y for the plot\n",
    "    hydrophone_x = [hydrophone1[0][0],hydrophone2[0][0],hydrophone3[0][0]]\n",
    "    hydrophone_y = [hydrophone1[1][0],hydrophone2[1][0],hydrophone3[1][0]]\n",
    "    \n",
    "    hydrophoneRotated_x = [hydrophone1_rotated[0][0],hydrophone2_rotated[0][0],hydrophone3_rotated[0][0]]\n",
    "    hydrophoneRotated_y = [hydrophone1_rotated[1][0],hydrophone2_rotated[1][0],hydrophone3_rotated[1][0]]\n",
    "    # Assume that the hydrophone is at some origin\n",
    "    plt.plot(0,0,marker=\"o\", markersize=20)\n",
    "    plt.plot(hydrophoneRotated_x,hydrophoneRotated_y,'go--')\n",
    "    \n",
    "    plt.plot(hydrophoneRotated_x[0],hydrophoneRotated_y[0],'ro')\n",
    "    plt.plot(hydrophoneRotated_x[1],hydrophoneRotated_y[1],'go')\n",
    "    plt.plot(hydrophoneRotated_x[2],hydrophoneRotated_y[2],'bo')\n",
    "    plt.show()\n",
    "    \n",
    "    return [hydrophoneRotated_x, hydrophoneRotated_y]\n",
    "    \n",
    "    "
   ]
  },
  {
   "cell_type": "code",
   "execution_count": 222,
   "metadata": {},
   "outputs": [],
   "source": [
    "def hydroPhoneTriArrayPosition(rotate = 0.0, centroid = np.array([[5],[5]]), d = 0.018):\n",
    "    c_x = centroid[0][0]\n",
    "    c_y = centroid[1][0]\n",
    "    \n",
    "    # All hydrophone positions determined relative the to the centroid\n",
    "    hydrophone1 = np.array([[c_x],[c_y+(d/math.sqrt(3))]])\n",
    "    hydrophone2 = np.array([[c_x + (d*0.5)],[c_y - (d/(math.sqrt(3)*2.0))]])\n",
    "    hydrophone3 = np.array([[c_x - (d*0.5)],[c_y - (d/(math.sqrt(3)*2.0))]])\n",
    "    \n",
    "    rotate_rad = math.radians(rotate)\n",
    "    R_z = np.array([[math.cos(rotate_rad), -1*math.sin(rotate_rad)],\n",
    "                    [math.sin(rotate_rad), math.cos(rotate_rad)]])\n",
    "    hydrophone1_rotated = np.matmul(R_z,hydrophone1 - centroid) + centroid\n",
    "    hydrophone2_rotated = np.matmul(R_z,hydrophone2 - centroid) + centroid\n",
    "    hydrophone3_rotated = np.matmul(R_z,hydrophone3 - centroid) + centroid\n",
    "    \n",
    "    hydrophone_x = [hydrophone1_rotated[0][0],hydrophone2_rotated[0][0],hydrophone3_rotated[0][0]]\n",
    "    hydrophone_y = [hydrophone1_rotated[1][0],hydrophone2_rotated[1][0],hydrophone3_rotated[1][0]]\n",
    "    return [hydrophone_x,hydrophone_y]\n",
    "    \n",
    "    "
   ]
  },
  {
   "cell_type": "code",
   "execution_count": 223,
   "metadata": {},
   "outputs": [],
   "source": [
    "def plotHydrophoneArray(hydrophonePose):\n",
    "    hydrophone_x = hydrophonePose[0]\n",
    "    hydrophone_y = hydrophonePose[1]\n",
    "    plt.plot(hydrophone_x[0],hydrophone_y[0],'ro',markerSize = 10)\n",
    "    plt.plot(hydrophone_x[1],hydrophone_y[1],'go',markerSize = 10)\n",
    "    plt.plot(hydrophone_x[2],hydrophone_y[2],'bo',markerSize = 10)\n",
    "    plt.plot(hydrophone_x,hydrophone_y,'k--')\n",
    "    plt.plot([hydrophone_x[0],hydrophone_x[-1]],[hydrophone_y[0],hydrophone_y[-1]],'k--')\n",
    "    plt.show()"
   ]
  },
  {
   "cell_type": "code",
   "execution_count": 225,
   "metadata": {},
   "outputs": [
    {
     "data": {
      "image/png": "[encoded data removed]",
      "text/plain": [
       "<Figure size 432x288 with 1 Axes>"
      ]
     },
     "metadata": {
      "needs_background": "light"
     },
     "output_type": "display_data"
    },
    {
     "name": "stdout",
     "output_type": "stream",
     "text": [
      "Dist between 1 and 2: 0.017999999999999853\n",
      "Dist between 1 and 3: 0.017999999999999853\n",
      "Dist between 2 and 3: 0.018000000000000682\n"
     ]
    }
   ],
   "source": [
    "result = hydroPhoneTriArrayPosition(rotate = 90)\n",
    "plotHydrophoneArray(result)\n",
    "determineDistBetweenPhones(result)"
   ]
  },
  {
   "cell_type": "code",
   "execution_count": 201,
   "metadata": {},
   "outputs": [],
   "source": [
    "def determineDistBetweenPhones(hydrophonePose):\n",
    "    x = hydrophonePose[0]\n",
    "    y = hydrophonePose[1]\n",
    "    \n",
    "    start_1 = [x[0],y[0]]\n",
    "    start_2 = [x[1],y[1]]\n",
    "    end_2 = [x[1],y[1]]\n",
    "    end_3 = [x[2],y[2]]\n",
    "    \n",
    "    print(\"Dist between 1 and 2: \" + str(determineDist(start_1,end_2)))\n",
    "    print(\"Dist between 1 and 3: \" + str(determineDist(start_1,end_3)))\n",
    "    print(\"Dist between 2 and 3: \" + str(determineDist(start_2,end_3)))"
   ]
  },
  {
   "cell_type": "code",
   "execution_count": 199,
   "metadata": {},
   "outputs": [],
   "source": [
    "def determineDist(start,end):\n",
    "    return(math.sqrt((end[0] - start[0])**2 + (end[1] - start[1])**2))"
   ]
  },
  {
   "cell_type": "code",
   "execution_count": 386,
   "metadata": {},
   "outputs": [],
   "source": [
    "def determineBearing(hydrophone_toa, d=0.018):\n",
    "    t1 = hydrophone_toa[0] #TOA for hydrophone 1\n",
    "    t2 = hydrophone_toa[1] #TOA for hydrophone 2\n",
    "    t3 = hydrophone_toa[2] #TOA for hydrophone 3\n",
    "    \n",
    "    s = 1500.0 #Speed of sound in salty waters\n",
    "    \n",
    "    #Simple cases\n",
    "    if t1>t2 and t1>t3 and t2==t3:\n",
    "        return 180\n",
    "    if t2>t3 and t2>t1 and t3==t1:\n",
    "        return -90\n",
    "    if t3>t1 and t3>t2 and t1==t2:\n",
    "        return 90\n",
    "    if t1>t3 and t2>t3 and t1==t2:\n",
    "        return -120\n",
    "    if t1>t2 and t3>t2 and t1==t3:\n",
    "        return 120\n",
    "    if t2>t1 and t3>t1 and t2==t3:\n",
    "        return 0.0\n",
    "    \n",
    "    \n",
    "    if t1<t2 and t1<t3:\n",
    "        x1 = s*(t2-t1)\n",
    "        x2 = s*(t3-t1)\n",
    "        \n",
    "        theta1 = math.degrees(math.acos(x1/d))\n",
    "        theta2 = math.degrees(math.acos(x2/d))\n",
    "        \n",
    "        bearing1 = theta1 - 30.0\n",
    "        bearing2 = 30.0 - theta2\n",
    "        print(\"I am here\")\n",
    "        print(bearing1)\n",
    "        print(bearing2)\n",
    "        \n",
    "        if bearing1 > 0 and bearing2 > 0:\n",
    "            return max(bearing1,bearing2)\n",
    "        else:\n",
    "            return min(bearing1,bearing2)\n",
    "    \n",
    "    if t2<t1 and t2<t3:\n",
    "        x1 = s*(t3-t2)\n",
    "        x2 = s*(t1-t2)\n",
    "        \n",
    "        theta1 = math.degrees(math.acos(x1/d))\n",
    "        theta2 = math.degrees(math.acos(x2/d))\n",
    "        \n",
    "        bearing1 = theta1 - 30.0\n",
    "        bearing2 = 30.0 - theta2\n",
    "        print(bearing1)\n",
    "        print(bearing2)\n",
    "        if bearing1 > 0 and bearing2 > 0:\n",
    "            return max(bearing1,bearing2) - 120\n",
    "        else:\n",
    "            return min(bearing1,bearing2) + 120\n",
    "    \n",
    "    if t3<t1 and t3<t2:\n",
    "        x1 = s*(t1-t3)\n",
    "        x2 = s*(t2-t3)\n",
    "        \n",
    "        theta1 = math.degrees(math.acos(x1/d))\n",
    "        theta2 = math.degrees(math.acos(x2/d))\n",
    "        \n",
    "        bearing1 = theta1 - 30.0\n",
    "        bearing2 = 30.0 - theta2\n",
    "        print(bearing1)\n",
    "        print(bearing2)\n",
    "        if bearing1 > 0 and bearing2 > 0:\n",
    "            return max(bearing1,bearing2) + 120\n",
    "        else:\n",
    "            return min(bearing1,bearing2) - 120"
   ]
  },
  {
   "cell_type": "code",
   "execution_count": 389,
   "metadata": {},
   "outputs": [],
   "source": [
    "def main():\n",
    "    freq = 40 # Frequency of emitter in kHz\n",
    "    emitter = [0.0,0.0] # Starting position of the emitting pinger\n",
    "    centroid = np.array([[-0.05],[0.05]])\n",
    "    init_rotate = -90\n",
    "    hydrophonePose = hydroPhoneTriArrayPosition(rotate = init_rotate,centroid = centroid)\n",
    "    plt.plot(emitter[0],emitter[1],marker=\"o\", markersize=20)\n",
    "    plotHydrophoneArray(hydrophonePose)\n",
    "    \n",
    "    hydrophone_x = hydrophonePose[0]\n",
    "    hydrophone_y = hydrophonePose[1]\n",
    "    dist_to_hydrophone1 = determineDist(emitter,[hydrophonePose[0][0],hydrophonePose[1][0]])\n",
    "    dist_to_hydrophone2 = determineDist(emitter,[hydrophonePose[0][1],hydrophonePose[1][1]])\n",
    "    dist_to_hydrophone3 = determineDist(emitter,[hydrophonePose[0][2],hydrophonePose[1][2]])\n",
    "    \n",
    "    hydrophone1_toa = timeOfArrival(dist_to_hydrophone1)\n",
    "    hydrophone2_toa = timeOfArrival(dist_to_hydrophone2)\n",
    "    hydrophone3_toa = timeOfArrival(dist_to_hydrophone3)\n",
    "    \n",
    "    hydrophone_toa = [hydrophone1_toa,hydrophone2_toa,hydrophone3_toa]\n",
    "    bearing = determineBearing(hydrophone_toa)\n",
    "    print(bearing)\n",
    "    \n",
    "    hydrophonePose = hydroPhoneTriArrayPosition(rotate=(-1*bearing)+init_rotate, centroid=centroid)\n",
    "    plt.plot(emitter[0],emitter[1],marker=\"o\", markersize=20)\n",
    "    plotHydrophoneArray(hydrophonePose)\n",
    "    "
   ]
  },
  {
   "cell_type": "code",
   "execution_count": 390,
   "metadata": {},
   "outputs": [
    {
     "data": {
      "image/png": "[encoded data removed]",
      "text/plain": [
       "<Figure size 432x288 with 1 Axes>"
      ]
     },
     "metadata": {
      "needs_background": "light"
     },
     "output_type": "display_data"
    },
    {
     "name": "stdout",
     "output_type": "stream",
     "text": [
      "I am here\n",
      "43.969280017201754\n",
      "10.877356224687905\n",
      "43.969280017201754\n"
     ]
    },
    {
     "data": {
      "image/png": "[encoded data removed]",
      "text/plain": [
       "<Figure size 432x288 with 1 Axes>"
      ]
     },
     "metadata": {
      "needs_background": "light"
     },
     "output_type": "display_data"
    }
   ],
   "source": [
    "main()"
   ]
  },
  {
   "cell_type": "code",
   "execution_count": null,
   "metadata": {},
   "outputs": [],
   "source": []
  },
  {
   "cell_type": "code",
   "execution_count": null,
   "metadata": {},
   "outputs": [],
   "source": []
  }
 ],
 "metadata": {
  "kernelspec": {
   "display_name": "deep-learning",
   "language": "python",
   "name": "deep-learning"
  },
  "language_info": {
   "codemirror_mode": {
    "name": "ipython",
    "version": 3
   },
   "file_extension": ".py",
   "mimetype": "text/x-python",
   "name": "python",
   "nbconvert_exporter": "python",
   "pygments_lexer": "ipython3",
   "version": "3.7.1"
  }
 },
 "nbformat": 4,
 "nbformat_minor": 2
}
